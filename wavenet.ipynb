{
 "cells": [
  {
   "cell_type": "code",
   "execution_count": 1,
   "metadata": {},
   "outputs": [],
   "source": [
    "import torch\n",
    "import torch.nn.functional as F\n",
    "import pandas as pd\n",
    "import matplotlib.pyplot as plt\n",
    "%matplotlib inline"
   ]
  },
  {
   "cell_type": "code",
   "execution_count": 2,
   "metadata": {},
   "outputs": [
    {
     "name": "stdout",
     "output_type": "stream",
     "text": [
      "4         MVLSEGEWQLVLHVWAKVEADVAGHGQDILIRLFKSHPETLEKFDR...\n",
      "7         MNIFEMLRIDEGLRLKIYKDTEGYYTIGIGHLLTKSPSLNAAAKSE...\n",
      "8         MVLSEGEWQLVLHVWAKVEADVAGHGQDILIRLFKSHPETLEKFDR...\n",
      "11        MNIFEMLRIDEGLRLKIYKDTEGYYTIGIGHLLTKSPSLNSLDAAK...\n",
      "12        MVLSEGEWQLVLHVWAKVEADVAGHGQDILIRLFKSHPETLEKFDR...\n",
      "                                ...                        \n",
      "467299    MNYQPTPEDRFTFGLWTVGWQGRDPFGDATRRALDPVESVQRLAEL...\n",
      "467300    SVQATREDKFSFGLWTVGWQARDAFGDATRTALDPVEAVHKLAEIG...\n",
      "467301    SVQATREDKFSFGLWTVGWQARDAFGDATRTALDPVEAVHKLAEIG...\n",
      "467302    SVQATREDKFSFGLWTVGWQARDAFGDATRTALDPVEAVHKLAEIG...\n",
      "467303    SVQATREDKFSFGLWTVGWQARDAFGDATRTALDPVEAVHKLAEIG...\n",
      "Name: sequence, Length: 345180, dtype: object\n",
      "0        MVLSEGEWQLVLHVWAKVEADVAGHGQDILIRLFKSHPETLEKFDR...\n",
      "1        MNIFEMLRIDEGLRLKIYKDTEGYYTIGIGHLLTKSPSLNAAAKSE...\n",
      "2        MVLSEGEWQLVLHVWAKVEADVAGHGQDILIRLFKSHPETLEKFDR...\n",
      "3        MNIFEMLRIDEGLRLKIYKDTEGYYTIGIGHLLTKSPSLNSLDAAK...\n",
      "4        MVLSEGEWQLVLHVWAKVEADVAGHGQDILIRLFKSHPETLEKFDR...\n",
      "                               ...                        \n",
      "19995    MNPDLRKERASATFNPELITHILDGSPENTRRRREIENLILNDPDF...\n",
      "19996    MNPDLRKERASATFNPELITHILDGSPENTRRRREIENLILNDPDF...\n",
      "19997    SDRAEVRNIPFKLGMYLTVGGVVNSNATRFSINVGESTDSIAMHMD...\n",
      "19998    SDRAEVRNIPFKLGMYLTVGGVVNSNATRFSINVGESTDSIAMHMD...\n",
      "19999    SDRAEVRNIPFKLGMYLTVGGVVNSNATRFSINVGESTDSIAMHMD...\n",
      "Name: sequence, Length: 20000, dtype: object\n"
     ]
    },
    {
     "data": {
      "text/plain": [
       "['MVLSEGEWQLVLHVWAKVEADVAGHGQDILIRLFKSHPETLEKFDRVKHLKTEAEMKASEDLKKHGVTVLTALGAILKKKGHHEAELKPLAQSHATKHKIPIKYLEFISEAIIHVLHSRHPGNFGADAQGAMNKALELFRKDIAAKYKELGYQG',\n",
       " 'MNIFEMLRIDEGLRLKIYKDTEGYYTIGIGHLLTKSPSLNAAAKSELDKAIGRNTNGVITKDEAEKLFNQDVDAAVRGILRNAKLKPVYDSLDAVRRAALINMVFQMGETGVAGFTNSLRMLQQKRWDEAAVNLAKSRWYNQTPNRAKRVITTFRTGTWDAYKNL',\n",
       " 'MVLSEGEWQLVLHVWAKVEADVAGHGQDILIRLFKSHPETLEKFDRFKHLKTEAEMKASEDLKKAGVTVLTALGAILKKKGHHEAELKPLAQSHATKHKIPIKYLEFISEAIIHVLHSRHPGNFGADAQGAMNKALELFRKDIAAKYKELGYQG']"
      ]
     },
     "execution_count": 2,
     "metadata": {},
     "output_type": "execute_result"
    }
   ],
   "source": [
    "df = pd.read_csv('/Users/carlitos/Desktop/ProteinDesign/ProteinDesign/pdb_data_seq.csv')\n",
    "protein_seq = df.query('macromoleculeType == \"Protein\"')['sequence']\n",
    "print(protein_seq)\n",
    "# we only need 20k protein sequences\n",
    "protein_seq = protein_seq[:20000].reset_index(drop=True)\n",
    "print(protein_seq)\n",
    "# drop nan\n",
    "protein_seq = protein_seq.dropna()\n",
    "len(protein_seq)\n",
    "# convert to list of protein sequences\n",
    "proteins = protein_seq.tolist()\n",
    "proteins[:3]"
   ]
  },
  {
   "cell_type": "code",
   "execution_count": 3,
   "metadata": {},
   "outputs": [
    {
     "name": "stdout",
     "output_type": "stream",
     "text": [
      "{1: 'P', 2: 'V', 3: 'U', 4: 'N', 5: 'R', 6: 'G', 7: 'M', 8: 'C', 9: 'F', 10: 'E', 11: 'L', 12: 'I', 13: 'D', 14: 'W', 15: 'Z', 16: 'K', 17: 'Q', 18: 'T', 19: 'H', 20: 'X', 21: 'S', 22: 'Y', 23: 'A', 0: '.'}\n",
      "24\n"
     ]
    }
   ],
   "source": [
    "# build a vocabulary of mapping the aa to integers\n",
    "aa = list(set(''.join(proteins)))\n",
    "stoi = {s:i+1 for i,s in enumerate(aa)}\n",
    "stoi['.'] = 0\n",
    "itos = {i:s for s,i in stoi.items()}\n",
    "vocab_size = len(itos)\n",
    "print(itos)\n",
    "print(vocab_size)"
   ]
  },
  {
   "cell_type": "code",
   "execution_count": 71,
   "metadata": {},
   "outputs": [
    {
     "name": "stdout",
     "output_type": "stream",
     "text": [
      "torch.Size([3799190, 8]) torch.Size([3799190])\n",
      "torch.Size([469943, 8]) torch.Size([469943])\n",
      "torch.Size([475834, 8]) torch.Size([475834])\n"
     ]
    }
   ],
   "source": [
    "# let's build the dataset\n",
    "block_size = 8 # context length\n",
    "\n",
    "def build_dataset(proteins):\n",
    "  X, Y = [], []\n",
    "\n",
    "  for protein in proteins:\n",
    "    #print(protein)\n",
    "    context = [0] * block_size\n",
    "    for aa in protein + '.':\n",
    "      ix = stoi[aa]\n",
    "      X.append(context)\n",
    "      Y.append(ix)\n",
    "      #print(''.join(itos[i] for i in context), '--->', itos[ix])\n",
    "      context = context[1:] + [ix]\n",
    "\n",
    "  X = torch.tensor(X)\n",
    "  Y = torch.tensor(Y)\n",
    "  print(X.shape, Y.shape)\n",
    "  return X, Y\n",
    "\n",
    "import random\n",
    "random.seed(42)\n",
    "random.shuffle(proteins)\n",
    "n1 = int(0.8*len(proteins))\n",
    "n2 = int(0.9*len(proteins))\n",
    "\n",
    "Xtr, Ytr = build_dataset(proteins[:n1])      # 80%\n",
    "Xdev, Ydev = build_dataset(proteins[n1:n2])  # 10%\n",
    "Xte, Yte = build_dataset(proteins[n2:])      # 10%"
   ]
  },
  {
   "cell_type": "code",
   "execution_count": 75,
   "metadata": {},
   "outputs": [
    {
     "name": "stdout",
     "output_type": "stream",
     "text": [
      "........ ---> A\n",
      ".......A ---> F\n",
      "......AF ---> V\n",
      ".....AFV ---> V\n",
      "....AFVV ---> T\n",
      "...AFVVT ---> D\n",
      "..AFVVTD ---> N\n",
      ".AFVVTDN ---> C\n",
      "AFVVTDNC ---> I\n",
      "FVVTDNCI ---> K\n",
      "VVTDNCIK ---> C\n",
      "VTDNCIKC ---> K\n",
      "TDNCIKCK ---> Y\n",
      "DNCIKCKY ---> T\n",
      "NCIKCKYT ---> K\n",
      "CIKCKYTK ---> C\n",
      "IKCKYTKC ---> V\n",
      "KCKYTKCV ---> E\n",
      "CKYTKCVE ---> V\n",
      "KYTKCVEV ---> C\n"
     ]
    }
   ],
   "source": [
    "for x, y in zip(Xtr[:20], Ytr[:20]):\n",
    "  print(''.join(itos[ix.item()] for ix in x), '--->', itos[y.item()])"
   ]
  },
  {
   "cell_type": "code",
   "execution_count": 104,
   "metadata": {},
   "outputs": [],
   "source": [
    "# -----------------------------------------------------------------------------------------------\n",
    "class Linear:\n",
    "  \n",
    "  def __init__(self, fan_in, fan_out, bias=True):\n",
    "    self.weight = torch.randn((fan_in, fan_out)) / fan_in**0.5 # note: kaiming init\n",
    "    self.bias = torch.zeros(fan_out) if bias else None\n",
    "  \n",
    "  def __call__(self, x):\n",
    "    self.out = x @ self.weight\n",
    "    if self.bias is not None:\n",
    "      self.out += self.bias\n",
    "    return self.out\n",
    "  \n",
    "  def parameters(self):\n",
    "    return [self.weight] + ([] if self.bias is None else [self.bias])\n",
    "\n",
    "# -----------------------------------------------------------------------------------------------\n",
    "class BatchNorm1d:\n",
    "    \n",
    "    def __init__(self, dim, eps=1e-5, momentum=0.1):\n",
    "        self.eps = eps\n",
    "        self.momentum = momentum\n",
    "        self.training = True\n",
    "        # parameters (trained with backprop)\n",
    "        self.gamma = torch.ones(dim)\n",
    "        self.beta = torch.zeros(dim)\n",
    "        # buffers (trained with a running 'momentum update')\n",
    "        self.running_mean = torch.zeros(dim)\n",
    "        self.running_var = torch.ones(dim)\n",
    "        \n",
    "    def __call__(self, x):\n",
    "        # calculate the forward pass\n",
    "        if self.training:\n",
    "            xmean = x.mean(0, keepdim=True) # batch mean\n",
    "            xvar = x.var(0, keepdim=True) # batch variance\n",
    "        else:\n",
    "            xmean = self.running_mean\n",
    "            xvar = self.running_var\n",
    "        xhat = (x - xmean) / torch.sqrt(xvar + self.eps) # normalize to unit variance\n",
    "        self.out = self.gamma * xhat + self.beta\n",
    "        # update the buffers\n",
    "        if self.training:\n",
    "            with torch.no_grad():\n",
    "                self.running_mean = (1 - self.momentum) * self.running_mean + self.momentum * xmean\n",
    "                self.running_var = (1 - self.momentum) * self.running_var + self.momentum * xvar\n",
    "        return self.out\n",
    "    \n",
    "    def parameters(self):\n",
    "        return [self.gamma, self.beta]\n",
    "\n",
    "# -----------------------------------------------------------------------------------------------\n",
    "class Tanh:\n",
    "  def __call__(self, x):\n",
    "    self.out = torch.tanh(x)\n",
    "    return self.out\n",
    "  def parameters(self):\n",
    "    return []\n",
    "\n",
    "# -----------------------------------------------------------------------------------------------\n",
    "class Embedding:\n",
    "  \n",
    "  def __init__(self, num_embeddings, embedding_dim):\n",
    "    self.weight = torch.randn((num_embeddings, embedding_dim))\n",
    "    \n",
    "  def __call__(self, IX):\n",
    "    self.out = self.weight[IX]\n",
    "    return self.out\n",
    "  \n",
    "  def parameters(self):\n",
    "    return [self.weight]\n",
    "\n",
    "# -----------------------------------------------------------------------------------------------\n",
    "class Flatten:\n",
    "  \n",
    "  def __call__(self, x):\n",
    "    self.out = x.view(x.shape[0], -1)\n",
    "    return self.out\n",
    "  \n",
    "  def parameters(self):\n",
    "    return []\n",
    "\n",
    "# -----------------------------------------------------------------------------------------------\n",
    "class Sequential:\n",
    "  \n",
    "  def __init__(self, layers):\n",
    "    self.layers = layers\n",
    "  \n",
    "  def __call__(self, x):\n",
    "    for layer in self.layers:\n",
    "      x = layer(x)\n",
    "    self.out = x\n",
    "    return self.out\n",
    "  \n",
    "  def parameters(self):\n",
    "    # get parameters of all layers and stretch them out into one list\n",
    "    return [p for layer in self.layers for p in layer.parameters()]"
   ]
  },
  {
   "cell_type": "code",
   "execution_count": 105,
   "metadata": {},
   "outputs": [],
   "source": [
    "torch.manual_seed(42); # seed rng for reproducibility"
   ]
  },
  {
   "cell_type": "code",
   "execution_count": 106,
   "metadata": {},
   "outputs": [
    {
     "name": "stdout",
     "output_type": "stream",
     "text": [
      "21464\n"
     ]
    }
   ],
   "source": [
    "# original network\n",
    "n_embd = 10 # the dimensionality of the character embedding vectors\n",
    "n_hidden = 200 # the number of neurons in the hidden layer of the MLP\n",
    "\n",
    "model = Sequential([\n",
    "    Embedding(vocab_size, n_embd), \n",
    "    Flatten(),\n",
    "    Linear(n_embd * block_size, n_hidden, bias=False), BatchNorm1d(n_hidden), Tanh(),\n",
    "    Linear(n_hidden, vocab_size)\n",
    "])\n",
    "\n",
    "# parameter init\n",
    "with torch.no_grad():\n",
    "  model.layers[-1].weight *= 0.1 # last layer make less confident\n",
    "\n",
    "parameters = model.parameters()\n",
    "print(sum(p.nelement() for p in parameters))\n",
    "for p in parameters:\n",
    "  p.requires_grad = True"
   ]
  },
  {
   "cell_type": "code",
   "execution_count": 107,
   "metadata": {},
   "outputs": [
    {
     "name": "stdout",
     "output_type": "stream",
     "text": [
      "      0/ 200000: 3.1572\n",
      "  10000/ 200000: 2.8989\n",
      "  20000/ 200000: 3.0034\n",
      "  30000/ 200000: 2.8441\n",
      "  40000/ 200000: 2.8431\n",
      "  50000/ 200000: 2.8746\n",
      "  60000/ 200000: 2.8147\n",
      "  70000/ 200000: 2.9331\n",
      "  80000/ 200000: 2.8068\n",
      "  90000/ 200000: 3.0317\n",
      " 100000/ 200000: 2.9619\n",
      " 110000/ 200000: 2.8828\n",
      " 120000/ 200000: 3.0054\n",
      " 130000/ 200000: 2.8983\n",
      " 140000/ 200000: 2.8302\n",
      " 150000/ 200000: 2.9248\n",
      " 160000/ 200000: 2.7528\n",
      " 170000/ 200000: 2.7762\n",
      " 180000/ 200000: 2.8206\n",
      " 190000/ 200000: 2.9021\n"
     ]
    }
   ],
   "source": [
    "# same optimization as last time\n",
    "max_steps = 200000\n",
    "batch_size = 32\n",
    "lossi = []\n",
    "\n",
    "for i in range(max_steps):\n",
    "  \n",
    "  # minibatch construct\n",
    "  ix = torch.randint(0, Xtr.shape[0], (batch_size,))\n",
    "  Xb, Yb = Xtr[ix], Ytr[ix] # batch X,Y\n",
    "  \n",
    "  # forward pass\n",
    "  logits = model(Xb) # forward pass\n",
    "  loss = F.cross_entropy(logits, Yb) # loss function\n",
    "  \n",
    "  # backward pass\n",
    "  for p in parameters:\n",
    "    p.grad = None\n",
    "  loss.backward()\n",
    "  \n",
    "  # update: simple SGD\n",
    "  lr = 0.01 if i < 150000 else 0.001 # step learning rate decay\n",
    "  for p in parameters:\n",
    "    p.data += -lr * p.grad\n",
    "\n",
    "  # track stats\n",
    "  if i % 10000 == 0: # print every once in a while\n",
    "    print(f'{i:7d}/{max_steps:7d}: {loss.item():.4f}')\n",
    "  lossi.append(loss.log10().item())"
   ]
  },
  {
   "cell_type": "code",
   "execution_count": 108,
   "metadata": {},
   "outputs": [
    {
     "data": {
      "text/plain": [
       "[<matplotlib.lines.Line2D at 0x1531af950>]"
      ]
     },
     "execution_count": 108,
     "metadata": {},
     "output_type": "execute_result"
    },
    {
     "data": {
      "image/png": "[encoded data removed]",
      "text/plain": [
       "<Figure size 640x480 with 1 Axes>"
      ]
     },
     "metadata": {},
     "output_type": "display_data"
    }
   ],
   "source": [
    "plt.plot(torch.tensor(lossi).view(-1, 1000).mean(1))"
   ]
  },
  {
   "cell_type": "code",
   "execution_count": 109,
   "metadata": {},
   "outputs": [],
   "source": [
    "# put the layers into eval mode\n",
    "for layer in model.layers:\n",
    "  layer.training = False"
   ]
  },
  {
   "cell_type": "code",
   "execution_count": 110,
   "metadata": {},
   "outputs": [
    {
     "name": "stdout",
     "output_type": "stream",
     "text": [
      "train 2.8711318969726562\n",
      "val 2.8678276538848877\n"
     ]
    }
   ],
   "source": [
    "# Evaluate the loss\n",
    "@torch.no_grad() # this decorator disables gradient tracking\n",
    "def split_loss(split):\n",
    "  x,y = {\n",
    "    'train': (Xtr, Ytr),\n",
    "    'val': (Xdev, Ydev),\n",
    "    'test': (Xte, Yte),\n",
    "  }[split]\n",
    "  logits = model(x)\n",
    "  loss = F.cross_entropy(logits, y)\n",
    "  print(split, loss.item())\n",
    "\n",
    "split_loss('train')\n",
    "split_loss('val')"
   ]
  },
  {
   "cell_type": "markdown",
   "metadata": {},
   "source": [
    "## Performance log\n",
    "- original(3 aa context + 200 hidden neurons, 11k params): train 2.89, val 2.89\n",
    "- context: 3 --> 8 (21k params): train: 2.871, 2.868"
   ]
  },
  {
   "cell_type": "code",
   "execution_count": 70,
   "metadata": {},
   "outputs": [
    {
     "name": "stdout",
     "output_type": "stream",
     "text": [
      "ISSLPALWAGCDRENLDRVKVTGLELELWLDMSLTASFTSRRCPLGLVWGQAGRGYEAKVALHEKSAALERGKHHAHRVMAPELHSDEDISGADPLGEAVGEASASKEDPLQ.\n",
      "EMVAMKADLGAAANLKEFIVDPPDPDWYGNHMGTATILQVDGLPTRELSDSDWSYNYTLQVGICEVGFFRMHGQGLKLLRSSEPSDLYRRGKQEYREASAHPGPFNAYLREVFPPKSEPAFHYWKKSQKVDTCIYNMISAAVL.\n",
      "MDLVKLRTQDEATSDWSVVPEDDAIIAFPKVNAWIEAAANLMDDAVGDAPKSMLNF.\n"
     ]
    }
   ],
   "source": [
    "# sample from the model\n",
    "for _ in range(3):\n",
    "\n",
    "  out = []\n",
    "  context = [0] * block_size\n",
    "  while True:\n",
    "    # forward pass of the neural net\n",
    "    logits = model(torch.tensor([context]))\n",
    "    probs = F.softmax(logits, dim=1)\n",
    "    # sample from the distribution\n",
    "    ix = torch.multinomial(probs, num_samples=1).item()\n",
    "    # shift the context window and track the samples\n",
    "    context = context[1:] + [ix]\n",
    "    out.append(ix)\n",
    "    # if we sample the special '.' token, break\n",
    "    if ix == 0:\n",
    "      break\n",
    "\n",
    "  print(''.join(itos[i] for i in out)) # decode and print the generated protein"
   ]
  }
 ],
 "metadata": {
  "kernelspec": {
   "display_name": "base",
   "language": "python",
   "name": "python3"
  },
  "language_info": {
   "codemirror_mode": {
    "name": "ipython",
    "version": 3
   },
   "file_extension": ".py",
   "mimetype": "text/x-python",
   "name": "python",
   "nbconvert_exporter": "python",
   "pygments_lexer": "ipython3",
   "version": "3.11.8"
  }
 },
 "nbformat": 4,
 "nbformat_minor": 2
}
