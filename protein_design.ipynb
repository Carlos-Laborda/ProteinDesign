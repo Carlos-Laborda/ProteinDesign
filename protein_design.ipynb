{
  "cells": [
    {
      "cell_type": "code",
      "execution_count": 2,
      "metadata": {
        "id": "6g8O1mSChdNs"
      },
      "outputs": [],
      "source": [
        "import pandas as pd\n",
        "df = pd.read_csv('/Users/carlitos/Desktop/ProteinDesign/ProteinDesign/pdb_data_seq.csv')"
      ]
    },
    {
      "cell_type": "code",
      "execution_count": 3,
      "metadata": {
        "colab": {
          "base_uri": "https://localhost:8080/"
        },
        "id": "xYEuOgRwjvML",
        "outputId": "62eced18-7386-48be-d839-072e9d97f653"
      },
      "outputs": [
        {
          "name": "stdout",
          "output_type": "stream",
          "text": [
            "Index(['structureId', 'chainId', 'sequence', 'residueCount',\n",
            "       'macromoleculeType'],\n",
            "      dtype='object')\n"
          ]
        }
      ],
      "source": [
        "print(df.columns)"
      ]
    },
    {
      "cell_type": "code",
      "execution_count": 4,
      "metadata": {
        "colab": {
          "base_uri": "https://localhost:8080/"
        },
        "id": "nxCaGxNcj3Bd",
        "outputId": "eb5e3804-d155-4672-fc7c-6d6058920471"
      },
      "outputs": [
        {
          "name": "stdout",
          "output_type": "stream",
          "text": [
            "4         MVLSEGEWQLVLHVWAKVEADVAGHGQDILIRLFKSHPETLEKFDR...\n",
            "7         MNIFEMLRIDEGLRLKIYKDTEGYYTIGIGHLLTKSPSLNAAAKSE...\n",
            "8         MVLSEGEWQLVLHVWAKVEADVAGHGQDILIRLFKSHPETLEKFDR...\n",
            "11        MNIFEMLRIDEGLRLKIYKDTEGYYTIGIGHLLTKSPSLNSLDAAK...\n",
            "12        MVLSEGEWQLVLHVWAKVEADVAGHGQDILIRLFKSHPETLEKFDR...\n",
            "                                ...                        \n",
            "467299    MNYQPTPEDRFTFGLWTVGWQGRDPFGDATRRALDPVESVQRLAEL...\n",
            "467300    SVQATREDKFSFGLWTVGWQARDAFGDATRTALDPVEAVHKLAEIG...\n",
            "467301    SVQATREDKFSFGLWTVGWQARDAFGDATRTALDPVEAVHKLAEIG...\n",
            "467302    SVQATREDKFSFGLWTVGWQARDAFGDATRTALDPVEAVHKLAEIG...\n",
            "467303    SVQATREDKFSFGLWTVGWQARDAFGDATRTALDPVEAVHKLAEIG...\n",
            "Name: sequence, Length: 345180, dtype: object\n"
          ]
        }
      ],
      "source": [
        "protein_seq = df.query('macromoleculeType == \"Protein\"')['sequence']\n",
        "print(protein_seq)"
      ]
    },
    {
      "cell_type": "code",
      "execution_count": 5,
      "metadata": {
        "colab": {
          "base_uri": "https://localhost:8080/"
        },
        "id": "g3oBtJSri2Db",
        "outputId": "dd470e3d-98fa-4b3f-874a-de41d0c161c5"
      },
      "outputs": [
        {
          "name": "stdout",
          "output_type": "stream",
          "text": [
            "0        MVLSEGEWQLVLHVWAKVEADVAGHGQDILIRLFKSHPETLEKFDR...\n",
            "1        MNIFEMLRIDEGLRLKIYKDTEGYYTIGIGHLLTKSPSLNAAAKSE...\n",
            "2        MVLSEGEWQLVLHVWAKVEADVAGHGQDILIRLFKSHPETLEKFDR...\n",
            "3        MNIFEMLRIDEGLRLKIYKDTEGYYTIGIGHLLTKSPSLNSLDAAK...\n",
            "4        MVLSEGEWQLVLHVWAKVEADVAGHGQDILIRLFKSHPETLEKFDR...\n",
            "                               ...                        \n",
            "19995    MNPDLRKERASATFNPELITHILDGSPENTRRRREIENLILNDPDF...\n",
            "19996    MNPDLRKERASATFNPELITHILDGSPENTRRRREIENLILNDPDF...\n",
            "19997    SDRAEVRNIPFKLGMYLTVGGVVNSNATRFSINVGESTDSIAMHMD...\n",
            "19998    SDRAEVRNIPFKLGMYLTVGGVVNSNATRFSINVGESTDSIAMHMD...\n",
            "19999    SDRAEVRNIPFKLGMYLTVGGVVNSNATRFSINVGESTDSIAMHMD...\n",
            "Name: sequence, Length: 20000, dtype: object\n"
          ]
        }
      ],
      "source": [
        "# we only need 20k protein sequences\n",
        "protein_seq = protein_seq[:20000].reset_index(drop=True)\n",
        "print(protein_seq)"
      ]
    },
    {
      "cell_type": "code",
      "execution_count": 6,
      "metadata": {
        "colab": {
          "base_uri": "https://localhost:8080/"
        },
        "id": "JtNZVRVae8Gi",
        "outputId": "6cad5499-9919-4fe4-d7a3-99eec33a99e8"
      },
      "outputs": [
        {
          "data": {
            "text/plain": [
              "np.int64(1)"
            ]
          },
          "execution_count": 6,
          "metadata": {},
          "output_type": "execute_result"
        }
      ],
      "source": [
        "# check nan values\n",
        "protein_seq.isna().sum()"
      ]
    },
    {
      "cell_type": "code",
      "execution_count": 7,
      "metadata": {
        "colab": {
          "base_uri": "https://localhost:8080/"
        },
        "id": "8J_bxddsfBx_",
        "outputId": "19ef7d52-2117-475d-bb26-fe0b1470b4db"
      },
      "outputs": [
        {
          "data": {
            "text/plain": [
              "19999"
            ]
          },
          "execution_count": 7,
          "metadata": {},
          "output_type": "execute_result"
        }
      ],
      "source": [
        "# drop nan\n",
        "protein_seq = protein_seq.dropna()\n",
        "len(protein_seq)"
      ]
    },
    {
      "cell_type": "code",
      "execution_count": 8,
      "metadata": {
        "colab": {
          "base_uri": "https://localhost:8080/"
        },
        "id": "o0Sa2Zcmp4e1",
        "outputId": "3a3f9d73-cec4-4527-de8a-0c412b0ac1dc"
      },
      "outputs": [
        {
          "data": {
            "text/plain": [
              "['MVLSEGEWQLVLHVWAKVEADVAGHGQDILIRLFKSHPETLEKFDRVKHLKTEAEMKASEDLKKHGVTVLTALGAILKKKGHHEAELKPLAQSHATKHKIPIKYLEFISEAIIHVLHSRHPGNFGADAQGAMNKALELFRKDIAAKYKELGYQG',\n",
              " 'MNIFEMLRIDEGLRLKIYKDTEGYYTIGIGHLLTKSPSLNAAAKSELDKAIGRNTNGVITKDEAEKLFNQDVDAAVRGILRNAKLKPVYDSLDAVRRAALINMVFQMGETGVAGFTNSLRMLQQKRWDEAAVNLAKSRWYNQTPNRAKRVITTFRTGTWDAYKNL',\n",
              " 'MVLSEGEWQLVLHVWAKVEADVAGHGQDILIRLFKSHPETLEKFDRFKHLKTEAEMKASEDLKKAGVTVLTALGAILKKKGHHEAELKPLAQSHATKHKIPIKYLEFISEAIIHVLHSRHPGNFGADAQGAMNKALELFRKDIAAKYKELGYQG']"
            ]
          },
          "execution_count": 8,
          "metadata": {},
          "output_type": "execute_result"
        }
      ],
      "source": [
        "# convert to list of protein sequences\n",
        "proteins = protein_seq.tolist()\n",
        "proteins[:3]"
      ]
    },
    {
      "cell_type": "code",
      "execution_count": 9,
      "metadata": {
        "id": "1FGOpI9DnPZP"
      },
      "outputs": [],
      "source": [
        "import torch\n",
        "import torch.nn.functional as F\n",
        "import matplotlib.pyplot as plt\n",
        "%matplotlib inline"
      ]
    },
    {
      "cell_type": "code",
      "execution_count": 10,
      "metadata": {
        "colab": {
          "base_uri": "https://localhost:8080/"
        },
        "id": "0Z-KpiLZpVA4",
        "outputId": "6b6bc2a5-9a61-4416-98b2-35e5923869c0"
      },
      "outputs": [
        {
          "name": "stdout",
          "output_type": "stream",
          "text": [
            "{1: 'D', 2: 'K', 3: 'P', 4: 'Q', 5: 'H', 6: 'R', 7: 'L', 8: 'G', 9: 'N', 10: 'F', 11: 'Z', 12: 'U', 13: 'W', 14: 'Y', 15: 'T', 16: 'M', 17: 'E', 18: 'X', 19: 'C', 20: 'I', 21: 'S', 22: 'V', 23: 'A', 0: '.'}\n",
            "24\n"
          ]
        }
      ],
      "source": [
        "# build a vocabulary of mapping the aa to integers\n",
        "aa = list(set(''.join(proteins)))\n",
        "stoi = {s:i+1 for i,s in enumerate(aa)}\n",
        "stoi['.'] = 0\n",
        "itos = {i:s for s,i in stoi.items()}\n",
        "vocab_size = len(itos)\n",
        "print(itos)\n",
        "print(vocab_size)"
      ]
    },
    {
      "cell_type": "code",
      "execution_count": 27,
      "metadata": {
        "colab": {
          "base_uri": "https://localhost:8080/"
        },
        "id": "GWvP6o0IhZAA",
        "outputId": "1d568f8e-8159-4311-d29a-513fdf0ec5a2"
      },
      "outputs": [
        {
          "name": "stdout",
          "output_type": "stream",
          "text": [
            "torch.Size([3799190, 3]) torch.Size([3799190])\n",
            "torch.Size([469943, 3]) torch.Size([469943])\n",
            "torch.Size([475834, 3]) torch.Size([475834])\n"
          ]
        }
      ],
      "source": [
        "# let's build the dataset\n",
        "block_size = 3 # context length\n",
        "\n",
        "def build_dataset(proteins):\n",
        "  X, Y = [], []\n",
        "\n",
        "  for protein in proteins:\n",
        "    #print(protein)\n",
        "    context = [0] * block_size\n",
        "    for aa in protein + '.':\n",
        "      ix = stoi[aa]\n",
        "      X.append(context)\n",
        "      Y.append(ix)\n",
        "      #print(''.join(itos[i] for i in context), '--->', itos[ix])\n",
        "      context = context[1:] + [ix]\n",
        "\n",
        "  X = torch.tensor(X)\n",
        "  Y = torch.tensor(Y)\n",
        "  print(X.shape, Y.shape)\n",
        "  return X, Y\n",
        "\n",
        "import random\n",
        "random.seed(42)\n",
        "random.shuffle(proteins)\n",
        "n1 = int(0.8*len(proteins))\n",
        "n2 = int(0.9*len(proteins))\n",
        "\n",
        "Xtr, Ytr = build_dataset(proteins[:n1])      # 80%\n",
        "Xdev, Ydev = build_dataset(proteins[n1:n2])  # 10%\n",
        "Xte, Yte = build_dataset(proteins[n2:])      # 10%"
      ]
    },
    {
      "cell_type": "code",
      "execution_count": null,
      "metadata": {
        "id": "vhyqpXfrz__W"
      },
      "outputs": [
        {
          "name": "stdout",
          "output_type": "stream",
          "text": [
            "11664\n"
          ]
        }
      ],
      "source": [
        "n_emb = 10 # the dimensionality of the character embedding vectors\n",
        "n_hidden = 200 # the number of neurons in the hidden layer of the MLP\n",
        "\n",
        "g = torch.Generator().manual_seed(42) # for reproducibility\n",
        "C = torch.randn((vocab_size, n_emb),             generator=g)\n",
        "W1 = torch.randn((block_size * n_emb, n_hidden), generator=g) * (5/3)/((n_emb * block_size)**0.5)\n",
        "#b1 = torch.randn(n_hidden,                       generator=g) * 0.01\n",
        "W2 = torch.randn((n_hidden, vocab_size),         generator=g) * 0.01\n",
        "b2 = torch.randn(vocab_size,                     generator=g) * 0\n",
        "\n",
        "# BatchNorm parameters\n",
        "bngain = torch.ones((1, n_hidden))\n",
        "bnbias = torch.zeros((1, n_hidden))\n",
        "bnmean_running = torch.zeros((1, n_hidden))\n",
        "bnstd_running = torch.ones((1, n_hidden))\n",
        "\n",
        "parameters = [C, W1, W2, b2, bngain, bnbias]\n",
        "print(sum(p.nelement() for p in parameters)) # total number of parameters\n",
        "for p in parameters:\n",
        "  p.requires_grad = True\n"
      ]
    },
    {
      "cell_type": "code",
      "execution_count": null,
      "metadata": {
        "colab": {
          "base_uri": "https://localhost:8080/"
        },
        "id": "HSAVzuzj1Zxd",
        "outputId": "77bac222-3278-4945-b159-818d029d3792"
      },
      "outputs": [
        {
          "name": "stdout",
          "output_type": "stream",
          "text": [
            "      0/ 200000: 3.2159\n",
            "  10000/ 200000: 2.7173\n",
            "  20000/ 200000: 3.0422\n",
            "  30000/ 200000: 2.9403\n",
            "  40000/ 200000: 3.1045\n",
            "  50000/ 200000: 2.7568\n",
            "  60000/ 200000: 2.9264\n",
            "  70000/ 200000: 2.9902\n",
            "  80000/ 200000: 2.8004\n",
            "  90000/ 200000: 2.8403\n",
            " 100000/ 200000: 2.7790\n",
            " 110000/ 200000: 2.7678\n",
            " 120000/ 200000: 2.7582\n",
            " 130000/ 200000: 2.9383\n",
            " 140000/ 200000: 2.8099\n",
            " 150000/ 200000: 2.9960\n",
            " 160000/ 200000: 2.8577\n",
            " 170000/ 200000: 2.9311\n",
            " 180000/ 200000: 2.9273\n",
            " 190000/ 200000: 2.9895\n"
          ]
        }
      ],
      "source": [
        "max_steps = 200000\n",
        "batch_size = 32\n",
        "lossi = []\n",
        "\n",
        "for i in range(max_steps):\n",
        "  # construct minibatch\n",
        "  ix = torch.randint(0, Xtr.shape[0], (batch_size,), generator=g)\n",
        "  Xb, Yb = Xtr[ix], Ytr[ix] # batch x, batch y\n",
        "\n",
        "  # forward pass\n",
        "  emb = C[Xb] # embed the characters into vectors\n",
        "  embcat = emb.view(emb.shape[0], -1) # concatenate the vectors\n",
        "  hpreact = embcat @ W1 #+ b1 # hidden layer pre-activation\n",
        "  bnmeani = hpreact.mean(dim=0, keepdim=True)\n",
        "  bnstdi = hpreact.std(dim=0, keepdim=True)\n",
        "  hpreact = bngain * (hpreact - bnmeani) / (bnstdi + bnbias)\n",
        "  \n",
        "  with torch.no_grad():\n",
        "    bnmean_running = 0.999 * bnmean_running + 0.001 * bnmeani\n",
        "    bnstd_running = 0.999 * bnstd_running + 0.001 * bnstdi\n",
        "  \n",
        "  h = torch.tanh(hpreact) # hidden layer\n",
        "  logits = h @ W2 + b2 # output layer\n",
        "  loss = F.cross_entropy(logits, Yb) # loss function\n",
        "\n",
        "  # backward pass\n",
        "  for p in parameters:\n",
        "    p.grad = None\n",
        "  loss.backward()\n",
        "\n",
        "  # update\n",
        "  lr = 0.01 if i < 100000 else 0.001\n",
        "  #lr = 0.01\n",
        "  for p in parameters:\n",
        "    p.data += -lr * p.grad\n",
        "\n",
        "  # track stats\n",
        "  if i % 10000 == 0:\n",
        "    print(f'{i:7d}/{max_steps:7d}: {loss.item():.4f}')\n",
        "  lossi.append(loss.log().item())\n",
        "\n",
        "#print(loss.item())"
      ]
    },
    {
      "cell_type": "code",
      "execution_count": 36,
      "metadata": {
        "colab": {
          "base_uri": "https://localhost:8080/",
          "height": 448
        },
        "id": "HYO3SF3v6X2R",
        "outputId": "530181ea-2f1f-47b6-a938-e444650ece42"
      },
      "outputs": [
        {
          "data": {
            "text/plain": [
              "[<matplotlib.lines.Line2D at 0x168fa60d0>]"
            ]
          },
          "execution_count": 36,
          "metadata": {},
          "output_type": "execute_result"
        },
        {
          "data": {
            "image/png": "[encoded data removed]",
            "text/plain": [
              "<Figure size 640x480 with 1 Axes>"
            ]
          },
          "metadata": {},
          "output_type": "display_data"
        }
      ],
      "source": [
        "plt.plot(lossi)"
      ]
    },
    {
      "cell_type": "code",
      "execution_count": null,
      "metadata": {},
      "outputs": [],
      "source": [
        "# calibrate the batch norm at the end of training\n",
        "\n",
        "with torch.no_grad():\n",
        "  # pass the training set through\n",
        "  emb = C[Xtr]\n",
        "  embcat = emb.view(emb.shape[0], -1)\n",
        "  hpreact = embcat @ W1 #+ b1\n",
        "  # measure the mean/std over the entire training set\n",
        "  bnmean = hpreact.mean(0, keepdim=True)\n",
        "  bnstd = hpreact.std(0, keepdim=True)"
      ]
    },
    {
      "cell_type": "code",
      "execution_count": null,
      "metadata": {
        "colab": {
          "base_uri": "https://localhost:8080/"
        },
        "id": "yKGUb-oyAMKX",
        "outputId": "efb58ee6-5286-4500-a3fc-3e3a0df0c44b"
      },
      "outputs": [
        {
          "name": "stdout",
          "output_type": "stream",
          "text": [
            "train 2.892559051513672\n",
            "val 2.8874809741973877\n"
          ]
        }
      ],
      "source": [
        "@torch.no_grad() # this decorator disables gradient tracking\n",
        "def split_loss(split):\n",
        "  x,y = {\n",
        "    'train': (Xtr, Ytr),\n",
        "    'val': (Xdev, Ydev),\n",
        "    'test': (Xte, Yte),\n",
        "  }[split]\n",
        "  emb = C[x] # (N, block_size, n_embd)\n",
        "  embcat = emb.view(emb.shape[0], -1) # concat into (N, block_size * n_embd)\n",
        "  hpreact = embcat @ W1 #+ b1\n",
        "  #hpreact = bngain * (hpreact - hpreact.mean(0, keepdim=True)) / hpreact.std(0, keepdim=True) + bnbias\n",
        "  hpreact = bngain * (hpreact - bnmean_running) / bnstd_running + bnbias\n",
        "  h = torch.tanh(hpreact) # (N, n_hidden)\n",
        "  logits = h @ W2 + b2 # (N, vocab_size)\n",
        "  loss = F.cross_entropy(logits, y)\n",
        "  print(split, loss.item())\n",
        "\n",
        "split_loss('train')\n",
        "split_loss('val')"
      ]
    },
    {
      "cell_type": "code",
      "execution_count": null,
      "metadata": {
        "colab": {
          "base_uri": "https://localhost:8080/"
        },
        "id": "hv1oHD8O242K",
        "outputId": "bece4198-ba7c-4af3-83d0-b3f782ea8abf"
      },
      "outputs": [
        {
          "name": "stdout",
          "output_type": "stream",
          "text": [
            "MNPYALSMTDVLAAAGESGILLKSTAYSNQTAQKVFEEWPIFPTSAFNDSGQEEGTATSAASVVPIEQKRIGHGIKIAAYALSELGGVNLREFDKGFFNKLVAPRDKLADVPTKPTALDNAIKNQDKAPKDTAAQTMADISLKEVAAKFLDRGEKITNIKPPRFVVVLFYERLCTEEDRGRKATVSCN.\n",
            "SFETFKIHNKGVFLLDREIFSTYENDALIGTCLTINPAYKQIIHKMHEWKIRPNPKYAEKDERAFFDKMEEKAVLETPKVAPTSQGLCDLTESIIEATLDEAFVAGSTLKFLIGTYGGTTCLKGNKLLGRANSTKKVDSYPIHTRAVLAEKAVLTTPWSGNTPRAIWVNTVWPRTCILLSQFHNSILNYEISNAGIEGSKVHELIRQLLGSEARAAVLSVQADRRSCLVRARTILDIKHNAIPEYTPGGLTGHLLAFLRRRPFWSVATKRIHEIWKYGREIWNLIEVKSGSPV.\n",
            "IAPARHEVDANVLPTWNIIWGREINERDLVQGKKLFKAWVFPKGAGNHIGTYGYYLPLEIPCRGNVEIKTGTQAVEPPPGETIMHLYLYDNRNTACYFTSCPYSTNAFPPDTQQHEAVGKIGLRSCCNAKIRYHPSEKGTDGHREFNGRPFRAGAQQNCMIAPRMLNPFYPDNSHIYNAWLLTR.\n"
          ]
        }
      ],
      "source": [
        "# sample from the model\n",
        "g = torch.Generator().manual_seed(17)\n",
        "\n",
        "for _ in range(3):\n",
        "\n",
        "  out = []\n",
        "  context = [0] * block_size\n",
        "  while True:\n",
        "    # forward pass of the neural net\n",
        "    emb = C[torch.tensor([context])]\n",
        "    h = torch.tanh(emb.view(1, -1) @ W1 + b1)\n",
        "    logits = h @ W2 + b2\n",
        "    probs = F.softmax(logits, dim=1)\n",
        "    # sample from the distribution\n",
        "    ix = torch.multinomial(probs, num_samples=1, generator=g).item()\n",
        "    # shift the context window and track the samples\n",
        "    context = context[1:] + [ix]\n",
        "    out.append(ix)\n",
        "    # if we sample the special '.' token, break\n",
        "    if ix == 0:\n",
        "      break\n",
        "\n",
        "  print(''.join(itos[i] for i in out)) # decode and print the generated protein"
      ]
    }
  ],
  "metadata": {
    "colab": {
      "provenance": []
    },
    "kernelspec": {
      "display_name": "base",
      "language": "python",
      "name": "python3"
    },
    "language_info": {
      "codemirror_mode": {
        "name": "ipython",
        "version": 3
      },
      "file_extension": ".py",
      "mimetype": "text/x-python",
      "name": "python",
      "nbconvert_exporter": "python",
      "pygments_lexer": "ipython3",
      "version": "3.11.8"
    }
  },
  "nbformat": 4,
  "nbformat_minor": 0
}
